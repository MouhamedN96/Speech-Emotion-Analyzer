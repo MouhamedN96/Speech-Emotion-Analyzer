{
 "cells": [
  {
   "cell_type": "code",
   "execution_count": 1,
   "metadata": {},
   "outputs": [
    {
     "name": "stdout",
     "output_type": "stream",
     "text": [
      "Collecting pyaudio\n",
      "  Obtaining dependency information for pyaudio from https://files.pythonhosted.org/packages/82/d8/f043c854aad450a76e476b0cf9cda1956419e1dacf1062eb9df3c0055abe/PyAudio-0.2.14-cp311-cp311-win_amd64.whl.metadata\n",
      "  Downloading PyAudio-0.2.14-cp311-cp311-win_amd64.whl.metadata (2.7 kB)\n",
      "Downloading PyAudio-0.2.14-cp311-cp311-win_amd64.whl (164 kB)\n",
      "   ---------------------------------------- 0.0/164.1 kB ? eta -:--:--\n",
      "   -- ------------------------------------- 10.2/164.1 kB ? eta -:--:--\n",
      "   -- ------------------------------------- 10.2/164.1 kB ? eta -:--:--\n",
      "   -- ------------------------------------- 10.2/164.1 kB ? eta -:--:--\n",
      "   ------- ------------------------------- 30.7/164.1 kB 119.1 kB/s eta 0:00:02\n",
      "   ------- ------------------------------- 30.7/164.1 kB 119.1 kB/s eta 0:00:02\n",
      "   ------- ------------------------------- 30.7/164.1 kB 119.1 kB/s eta 0:00:02\n",
      "   ------------------- ------------------- 81.9/164.1 kB 199.7 kB/s eta 0:00:01\n",
      "   ------------------- ------------------- 81.9/164.1 kB 199.7 kB/s eta 0:00:01\n",
      "   ------------------- ------------------- 81.9/164.1 kB 199.7 kB/s eta 0:00:01\n",
      "   ------------------- ------------------- 81.9/164.1 kB 199.7 kB/s eta 0:00:01\n",
      "   ------------------- ------------------- 81.9/164.1 kB 199.7 kB/s eta 0:00:01\n",
      "   ------------------- ------------------- 81.9/164.1 kB 199.7 kB/s eta 0:00:01\n",
      "   ------------------- ------------------- 81.9/164.1 kB 199.7 kB/s eta 0:00:01\n",
      "   ------------------- ------------------- 81.9/164.1 kB 199.7 kB/s eta 0:00:01\n",
      "   -------------------------------------  163.8/164.1 kB 192.7 kB/s eta 0:00:01\n",
      "   -------------------------------------  163.8/164.1 kB 192.7 kB/s eta 0:00:01\n",
      "   -------------------------------------  163.8/164.1 kB 192.7 kB/s eta 0:00:01\n",
      "   -------------------------------------  163.8/164.1 kB 192.7 kB/s eta 0:00:01\n",
      "   -------------------------------------  163.8/164.1 kB 192.7 kB/s eta 0:00:01\n",
      "   -------------------------------------  163.8/164.1 kB 192.7 kB/s eta 0:00:01\n",
      "   -------------------------------------  163.8/164.1 kB 192.7 kB/s eta 0:00:01\n",
      "   -------------------------------------  163.8/164.1 kB 192.7 kB/s eta 0:00:01\n",
      "   -------------------------------------  163.8/164.1 kB 192.7 kB/s eta 0:00:01\n",
      "   -------------------------------------  163.8/164.1 kB 192.7 kB/s eta 0:00:01\n",
      "   -------------------------------------  163.8/164.1 kB 192.7 kB/s eta 0:00:01\n",
      "   -------------------------------------  163.8/164.1 kB 192.7 kB/s eta 0:00:01\n",
      "   -------------------------------------  163.8/164.1 kB 192.7 kB/s eta 0:00:01\n",
      "   -------------------------------------  163.8/164.1 kB 192.7 kB/s eta 0:00:01\n",
      "   -------------------------------------  163.8/164.1 kB 192.7 kB/s eta 0:00:01\n",
      "   -------------------------------------  163.8/164.1 kB 192.7 kB/s eta 0:00:01\n",
      "   -------------------------------------  163.8/164.1 kB 192.7 kB/s eta 0:00:01\n",
      "   --------------------------------------- 164.1/164.1 kB 92.9 kB/s eta 0:00:00\n",
      "Installing collected packages: pyaudio\n",
      "Successfully installed pyaudio-0.2.14\n"
     ]
    },
    {
     "name": "stderr",
     "output_type": "stream",
     "text": [
      "\n",
      "[notice] A new release of pip is available: 23.2.1 -> 24.1.1\n",
      "[notice] To update, run: python.exe -m pip install --upgrade pip\n"
     ]
    }
   ],
   "source": [
    "!pip install pyaudio"
   ]
  },
  {
   "cell_type": "code",
   "execution_count": 2,
   "metadata": {},
   "outputs": [
    {
     "name": "stdout",
     "output_type": "stream",
     "text": [
      "Collecting wave\n",
      "  Downloading Wave-0.0.2.zip (38 kB)\n",
      "  Installing build dependencies: started\n",
      "  Installing build dependencies: still running...\n",
      "  Installing build dependencies: finished with status 'done'\n",
      "  Getting requirements to build wheel: started\n",
      "  Getting requirements to build wheel: finished with status 'done'\n",
      "  Preparing metadata (pyproject.toml): started\n",
      "  Preparing metadata (pyproject.toml): finished with status 'done'\n",
      "Building wheels for collected packages: wave\n",
      "  Building wheel for wave (pyproject.toml): started\n",
      "  Building wheel for wave (pyproject.toml): finished with status 'done'\n",
      "  Created wheel for wave: filename=Wave-0.0.2-py3-none-any.whl size=1228 sha256=0fdc77bc5ec37178510c4d6bd3a48d7ad532e2b3375f997dc9806c308ebe4b56\n",
      "  Stored in directory: c:\\users\\mi\\appdata\\local\\pip\\cache\\wheels\\9c\\ca\\18\\1b5c2e79061f666af1114a80567bbfdc72b1d9bcb5a584462c\n",
      "Successfully built wave\n",
      "Installing collected packages: wave\n",
      "Successfully installed wave-0.0.2\n"
     ]
    },
    {
     "name": "stderr",
     "output_type": "stream",
     "text": [
      "\n",
      "[notice] A new release of pip is available: 23.2.1 -> 24.1.1\n",
      "[notice] To update, run: python.exe -m pip install --upgrade pip\n"
     ]
    }
   ],
   "source": [
    "!pip install wave"
   ]
  },
  {
   "cell_type": "code",
   "execution_count": 3,
   "metadata": {},
   "outputs": [
    {
     "name": "stdout",
     "output_type": "stream",
     "text": [
      "* recording\n",
      "* done recording\n"
     ]
    }
   ],
   "source": [
    "import pyaudio\n",
    "import wave\n",
    "\n",
    "CHUNK = 1024 \n",
    "FORMAT = pyaudio.paInt16 #paInt8\n",
    "CHANNELS = 2 \n",
    "RATE = 44100 #sample rate\n",
    "RECORD_SECONDS = 4\n",
    "WAVE_OUTPUT_FILENAME = \"output10.wav\"\n",
    "\n",
    "p = pyaudio.PyAudio()\n",
    "\n",
    "stream = p.open(format=FORMAT,\n",
    "                channels=CHANNELS,\n",
    "                rate=RATE,\n",
    "                input=True,\n",
    "                frames_per_buffer=CHUNK) #buffer\n",
    "\n",
    "print(\"* recording\")\n",
    "\n",
    "frames = []\n",
    "\n",
    "for i in range(0, int(RATE / CHUNK * RECORD_SECONDS)):\n",
    "    data = stream.read(CHUNK)\n",
    "    frames.append(data) # 2 bytes(16 bits) per channel\n",
    "\n",
    "print(\"* done recording\")\n",
    "\n",
    "stream.stop_stream()\n",
    "stream.close()\n",
    "p.terminate()\n",
    "\n",
    "wf = wave.open(WAVE_OUTPUT_FILENAME, 'wb')\n",
    "wf.setnchannels(CHANNELS)\n",
    "wf.setsampwidth(p.get_sample_size(FORMAT))\n",
    "wf.setframerate(RATE)\n",
    "wf.writeframes(b''.join(frames))\n",
    "wf.close()"
   ]
  },
  {
   "cell_type": "code",
   "execution_count": null,
   "metadata": {
    "collapsed": true
   },
   "outputs": [],
   "source": []
  }
 ],
 "metadata": {
  "kernelspec": {
   "display_name": "Python 3",
   "language": "python",
   "name": "python3"
  },
  "language_info": {
   "codemirror_mode": {
    "name": "ipython",
    "version": 3
   },
   "file_extension": ".py",
   "mimetype": "text/x-python",
   "name": "python",
   "nbconvert_exporter": "python",
   "pygments_lexer": "ipython3",
   "version": "3.11.5"
  }
 },
 "nbformat": 4,
 "nbformat_minor": 2
}
